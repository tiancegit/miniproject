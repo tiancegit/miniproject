{
 "cells": [
  {
   "cell_type": "code",
   "execution_count": 4,
   "metadata": {},
   "outputs": [
    {
     "name": "stderr",
     "output_type": "stream",
     "text": [
      "/home/lee/Web_crawler/venv/lib/python3.5/site-packages/bs4/__init__.py:181: UserWarning: No parser was explicitly specified, so I'm using the best available HTML parser for this system (\"html5lib\"). This usually isn't a problem, but if you run this code on another system, or in a different virtual environment, it may use a different parser and behave differently.\n",
      "\n",
      "The code that caused this warning is on line 184 of the file /usr/lib/python3.5/runpy.py. To get rid of this warning, change code that looks like this:\n",
      "\n",
      " BeautifulSoup(YOUR_MARKUP})\n",
      "\n",
      "to this:\n",
      "\n",
      " BeautifulSoup(YOUR_MARKUP, \"html5lib\")\n",
      "\n",
      "  markup_type=markup_type))\n"
     ]
    },
    {
     "data": {
      "text/plain": [
       "'\\nbsodj.html.body.h1\\nbsodj.body.h1 \\nbsodj.html.h1\\n'"
      ]
     },
     "execution_count": 4,
     "metadata": {},
     "output_type": "execute_result"
    }
   ],
   "source": [
    "# 安装BeautifulSoup 4。也称为BS4\n",
    "\n",
    "# sudo apt-get install python-bs4\n",
    "\n",
    "# pip install beautifulsoup4\n",
    "\n",
    "# python3 安装bs4\n",
    "\n",
    "# pip3 install beautifulsoup4\n",
    "\n",
    "from urllib.request import urlopen\n",
    "from bs4 import BeautifulSoup\n",
    "# 打开链接，保存为对象。\n",
    "html = urlopen(\"http://www.pythonscraping.com/pages/page1.html\")\n",
    "# 转换为BS4对象。方便解析。\n",
    "bsodj = BeautifulSoup(html.read())\n",
    "print(bsodj.h1)\n",
    "\n",
    "# 与下面的所有的函数调用都可以产生同样的结果。类似树状结构。可以从根，分节点，结果。分层指定。\n",
    "\n",
    "\"\"\"\n",
    "bsodj.html.body.h1\n",
    "bsodj.body.h1 \n",
    "bsodj.html.h1\n",
    "\"\"\""
   ]
  },
  {
   "cell_type": "code",
   "execution_count": 7,
   "metadata": {},
   "outputs": [
    {
     "name": "stdout",
     "output_type": "stream",
     "text": [
      "None\n"
     ]
    },
    {
     "name": "stderr",
     "output_type": "stream",
     "text": [
      "/home/lee/Web_crawler/venv/lib/python3.5/site-packages/bs4/element.py:1050: UserWarning: .nonExistentTag is deprecated, use .find(\"nonExistent\") instead.\n",
      "  tag_name, tag_name))\n"
     ]
    },
    {
     "ename": "AttributeError",
     "evalue": "'NoneType' object has no attribute 'someTag'",
     "output_type": "error",
     "traceback": [
      "\u001b[0;31m---------------------------------------------------------------------------\u001b[0m",
      "\u001b[0;31mAttributeError\u001b[0m                            Traceback (most recent call last)",
      "\u001b[0;32m<ipython-input-7-a268e2f7d022>\u001b[0m in \u001b[0;36m<module>\u001b[0;34m()\u001b[0m\n\u001b[1;32m      5\u001b[0m \u001b[0;31m# 会返回一个None对象。检查并处理这个对象很有必要性。不检查，直接调用这个None对象的子标签。会出现报错。\u001b[0m\u001b[0;34m\u001b[0m\u001b[0;34m\u001b[0m\u001b[0m\n\u001b[1;32m      6\u001b[0m \u001b[0;34m\u001b[0m\u001b[0m\n\u001b[0;32m----> 7\u001b[0;31m \u001b[0mprint\u001b[0m\u001b[0;34m(\u001b[0m\u001b[0mbsodj\u001b[0m\u001b[0;34m.\u001b[0m\u001b[0mnonExistentTag\u001b[0m\u001b[0;34m.\u001b[0m\u001b[0msomeTag\u001b[0m\u001b[0;34m)\u001b[0m\u001b[0;34m\u001b[0m\u001b[0m\n\u001b[0m\u001b[1;32m      8\u001b[0m \u001b[0;34m\u001b[0m\u001b[0m\n\u001b[1;32m      9\u001b[0m \u001b[0;31m# AttributeError: 'NoneType' object has no attribute 'someTag'\u001b[0m\u001b[0;34m\u001b[0m\u001b[0;34m\u001b[0m\u001b[0m\n",
      "\u001b[0;31mAttributeError\u001b[0m: 'NoneType' object has no attribute 'someTag'"
     ]
    }
   ],
   "source": [
    "# nonExistentTag 是虚拟的标签，Bs4对象里实际并没有这个标签。\n",
    "\n",
    "print(bsodj.nonExistentTag)\n",
    "\n",
    "# 会返回一个None对象。检查并处理这个对象很有必要性。不检查，直接调用这个None对象的子标签。会出现报错。\n",
    "\n",
    "print(bsodj.nonExistentTag.someTag)\n",
    "\n",
    "# AttributeError: 'NoneType' object has no attribute 'someTag'\n",
    "# 避免两种情况的异常。对这两种情形进行检查。\n",
    "try:\n",
    "    # 尝试获取标签。\n",
    "    badContent = bsodj.nonExistentTag.anotherTag\n",
    "except AttributeError as e:\n",
    "    # 如果出现属性错误。返回一个报错。\n",
    "    print(\"Tag was not found\")\n",
    "else:\n",
    "    # 如果为None。返回提示\n",
    "    if badContent == None:\n",
    "        print(\"Tag was not found\")\n",
    "    else:\n",
    "        print(badContent)\n",
    "    \n",
    "# 需要考虑到各种不同的可能性。并做好错误处理。\n"
   ]
  },
  {
   "cell_type": "code",
   "execution_count": 10,
   "metadata": {},
   "outputs": [
    {
     "name": "stderr",
     "output_type": "stream",
     "text": [
      "/home/lee/Web_crawler/venv/lib/python3.5/site-packages/bs4/__init__.py:181: UserWarning: No parser was explicitly specified, so I'm using the best available HTML parser for this system (\"html5lib\"). This usually isn't a problem, but if you run this code on another system, or in a different virtual environment, it may use a different parser and behave differently.\n",
      "\n",
      "The code that caused this warning is on line 184 of the file /usr/lib/python3.5/runpy.py. To get rid of this warning, change code that looks like this:\n",
      "\n",
      " BeautifulSoup(YOUR_MARKUP})\n",
      "\n",
      "to this:\n",
      "\n",
      " BeautifulSoup(YOUR_MARKUP, \"html5lib\")\n",
      "\n",
      "  markup_type=markup_type))\n"
     ]
    },
    {
     "name": "stdout",
     "output_type": "stream",
     "text": [
      "Anna\n",
      "Pavlovna Scherer\n",
      "Empress Marya\n",
      "Fedorovna\n",
      "Prince Vasili Kuragin\n",
      "Anna Pavlovna\n",
      "St. Petersburg\n",
      "the prince\n",
      "Anna Pavlovna\n",
      "Anna Pavlovna\n",
      "the prince\n",
      "the prince\n",
      "the prince\n",
      "Prince Vasili\n",
      "Anna Pavlovna\n",
      "Anna Pavlovna\n",
      "the prince\n",
      "Wintzingerode\n",
      "King of Prussia\n",
      "le Vicomte de Mortemart\n",
      "Montmorencys\n",
      "Rohans\n",
      "Abbe Morio\n",
      "the Emperor\n",
      "the prince\n",
      "Prince Vasili\n",
      "Dowager Empress Marya Fedorovna\n",
      "the baron\n",
      "Anna Pavlovna\n",
      "the Empress\n",
      "the Empress\n",
      "Anna Pavlovna's\n",
      "Her Majesty\n",
      "Baron\n",
      "Funke\n",
      "The prince\n",
      "Anna\n",
      "Pavlovna\n",
      "the Empress\n",
      "The prince\n",
      "Anatole\n",
      "the prince\n",
      "The prince\n",
      "Anna\n",
      "Pavlovna\n",
      "Anna Pavlovna\n"
     ]
    }
   ],
   "source": [
    "# 一种可行但不美观的解析方式，网站改版后，可能会导致爬虫失效。\n",
    "#bsodj.findAll(\"table\")[4].findAll(\"tr\")[2].find(td).findAll(\"div\")[1].find(\"a\")\n",
    "\n",
    "# 可以尝试的解决方式。\n",
    "\"\"\"\n",
    "1. 寻找”打印此页“ 按钮。或查看网站有没有HTML样式更友好的移动端站点。 请求头修改为移动设备，接收移动端页面。\n",
    "2. 寻找隐藏在JS文件中的信息。是否用过JS获取信息。是否前后端分离。\n",
    "3. 网页标题或许可以在url链接中获取得到。\n",
    "4. 寻找其它数据源，或最原始的数据源。\n",
    "\"\"\"\n",
    "\n",
    "# 根据Css元素样式进行解析。\n",
    "\"\"\"\n",
    "<span class=\"green\"></span>\n",
    "<span class=\"red\"></span>\n",
    "\"\"\"\n",
    "# 可以通过class属性的值。轻松区分出两种不同的标签。例如可以通过BS4抓取网页上的红色文字。而绿色的一个都不抓取。\n",
    "\n",
    "# 创建爬虫爬取下面这个网页。对话内容都是红色的。人物名称是红色的。\n",
    "\n",
    "from urllib.request import urlopen\n",
    "from bs4 import BeautifulSoup\n",
    "url = \"http://www.pythonscraping.com/pages/warandpeace.htmlb\n",
    "html = urlopen(url)\n",
    "bsObj = BeautifulSoup(html)\n",
    "\n",
    "namelist = bsObj.findAll(\"span\", {\"class\":\"green\"})\n",
    "for name in namelist:ta\n",
    "    print(name.get_text())\n",
    "\n",
    "# 会根据《战争与和平》中出场人物顺序显示所以的名字。 bsObj.tagname 只能获取页面中第一个指定的标签。\n",
    "# 调用bsObj.findAll(tagname, tagAttributes) 可以获取页面中所有指定的标签。\n",
    "# .get_text()可以把超链接，段落，标签都清除掉，只留下不带标签的文字。一般只在打印，存储或操作数据的时候才使用.get_text()\n",
    "# 一般都尽可能的保留HTML文档的标签结构。\n",
    "\n"
   ]
  },
  {
   "cell_type": "code",
   "execution_count": 15,
   "metadata": {},
   "outputs": [
    {
     "ename": "NameError",
     "evalue": "name 'findAll' is not defined",
     "output_type": "error",
     "traceback": [
      "\u001b[0;31m---------------------------------------------------------------------------\u001b[0m",
      "\u001b[0;31mNameError\u001b[0m                                 Traceback (most recent call last)",
      "\u001b[0;32m<ipython-input-15-2594d19309a6>\u001b[0m in \u001b[0;36m<module>\u001b[0;34m()\u001b[0m\n\u001b[1;32m      2\u001b[0m \u001b[0;34m\u001b[0m\u001b[0m\n\u001b[1;32m      3\u001b[0m \u001b[0;31m# 这个两个函数非常相似。在文档中对两者的定义是：\u001b[0m\u001b[0;34m\u001b[0m\u001b[0;34m\u001b[0m\u001b[0m\n\u001b[0;32m----> 4\u001b[0;31m \u001b[0mfindAll\u001b[0m\u001b[0;34m(\u001b[0m\u001b[0mtag\u001b[0m\u001b[0;34m,\u001b[0m \u001b[0mattributes\u001b[0m\u001b[0;34m,\u001b[0m \u001b[0mrecursive\u001b[0m\u001b[0;34m,\u001b[0m \u001b[0mtext\u001b[0m\u001b[0;34m,\u001b[0m \u001b[0mlimit\u001b[0m\u001b[0;34m,\u001b[0m \u001b[0mkeywords\u001b[0m\u001b[0;34m)\u001b[0m\u001b[0;34m\u001b[0m\u001b[0m\n\u001b[0m\u001b[1;32m      5\u001b[0m \u001b[0mfind\u001b[0m\u001b[0;34m(\u001b[0m\u001b[0mtag\u001b[0m\u001b[0;34m,\u001b[0m \u001b[0mattributes\u001b[0m\u001b[0;34m,\u001b[0m \u001b[0mrecursive\u001b[0m\u001b[0;34m,\u001b[0m \u001b[0mtext\u001b[0m\u001b[0;34m,\u001b[0m \u001b[0mlimit\u001b[0m\u001b[0;34m,\u001b[0m \u001b[0mkeywords\u001b[0m\u001b[0;34m)\u001b[0m\u001b[0;34m\u001b[0m\u001b[0m\n\u001b[1;32m      6\u001b[0m \u001b[0;34m\u001b[0m\u001b[0m\n",
      "\u001b[0;31mNameError\u001b[0m: name 'findAll' is not defined"
     ]
    }
   ],
   "source": [
    "# Bs4 中的find() 和 findAll()\n",
    "\n",
    "# 这个两个函数非常相似。在文档中对两者的定义是：\n",
    "findAll(tag, attributes, recursive, text, limit, keywords)\n",
    "find(tag, attributes, recursive, text, limit, keywords)\n",
    "\n",
    "# tag 标签参数可以传入一个标签的名称或多个标签名称组成的Python列表（list） 作为参数。\n",
    "\n",
    "bsObj.findAll([\"h1\", \"h2\", \"h3\", \"h3\", \"h4\", \"h5\",\"h6\"])  # 返回一个包含HTML文档中所有标题标签的列表。\n",
    "\n",
    "# attributes 是用一个dict字典。封装一个标签的若干属性和对应的属性值。\n",
    "\n",
    "bsObj.findAll(\"span\", {\"class\":[\"green\", \"red\"]})    # 返回文档里红色和绿色两种颜色的span标签.\n",
    "\n",
    "# 递归参数 recursive 是一个布尔变量。你想抓取HTML文档标签结构里的多少层信息。 \n",
    "# 设置为True.findAll会根据要求去查询标签参数的所有子标签。以及子标签的所以子标签。\n",
    "# 如果是设置为False，FindAll只会查找文档的一级标签。 findAll 默认是支持递归查找的（recursive默认值为True。）\n",
    "# 一般不需要设置，除非是真正了解自己需要那些信息。而且抓取速度要求非常高。这时可以设置递归参数。\n",
    "\n",
    "# text 参数是用标签的文本内容去匹配的，而不是用标签的属性。\n",
    "nameList = bsObj.findAll(text=\"the prince\")     # 查找网页中包含”the prince“ 内容的标签数量。\n",
    "print(len(nameList))  # 7\n",
    "\n",
    "# limit 范围限制参数，只适用findAll(), find等价于是 findAll（limit=1）的情形。\n",
    "\n",
    "# keyword 关键词参数。可以让你选择那些具有指定属性的标签。\n",
    "allText = bsObj.findAll(id=\"text\")\n",
    "print(allText[0].get_text())\n",
    "\n",
    "\n",
    "# 关键字参数很有用。但是这是bs4在技术上的一个功能。任何用keyword参数完成的任务。都可以使用其它技术完成。\n",
    "\n",
    "#下面的代码是完全一样的。\n",
    "bsObj.findAll(id=\"text\")\n",
    "bsObj.findAll(\"\", {\"id\":\"text\"})\n",
    "\n",
    "# 使用keyword 参数通过class参数查找标签的时候。因为class是系统的保留字。所以不能作为变量名或参数名使用。\n",
    "# 运行下面的代码会因为使用了class关键字保留参数而产生一个语法错误\n",
    "\n",
    "bsObj.findAll(class=\"green\")\n",
    "\n",
    "# 可以使用Bs4提供的一个有些臃肿的方案。\n",
    "bsObj.findAll(class_=\"green\")\n",
    "# 或是用属性参数把class用引号括起来。\n",
    "bsObj.findAll(\"\", {\"class\", \"green\"})\n",
    "\n",
    "# 通过tag参数把标签列表传入.finAll()中，获取一列标签。其实就是一个”或“关系的过滤器。即是选择所有带标签1，标签2..的一系列标签。\n",
    "# 如果是标签列表很长。需要很长时间才能写完。关键词参数可以让你增加一个 ”与“ 关系的过滤器来简化工作。\n",
    "\n"
   ]
  },
  {
   "cell_type": "code",
   "execution_count": 17,
   "metadata": {},
   "outputs": [],
   "source": [
    "# bs4库还有两种对象，虽然不常用，但也应该去了解一下。\n",
    "\n",
    "# NavigableString对象\n",
    "# 用来表示标签里的文章。而不是标签。（有些函数可以生成和操作NavigableString对象。而不是标签对象。）\n"
   ]
  },
  {
   "cell_type": "code",
   "execution_count": null,
   "metadata": {
    "collapsed": true
   },
   "outputs": [],
   "source": []
  }
 ],
 "metadata": {
  "kernelspec": {
   "display_name": "Python 3",
   "language": "python",
   "name": "python3"
  },
  "language_info": {
   "codemirror_mode": {
    "name": "ipython",
    "version": 3
   },
   "file_extension": ".py",
   "mimetype": "text/x-python",
   "name": "python",
   "nbconvert_exporter": "python",
   "pygments_lexer": "ipython3",
   "version": "3.5.2"
  }
 },
 "nbformat": 4,
 "nbformat_minor": 2
}
